{
  "nbformat": 4,
  "nbformat_minor": 0,
  "metadata": {
    "colab": {
      "name": "Chapter -1   --   Introduction to deep learning with keras -- Datacamp",
      "provenance": [],
      "collapsed_sections": [],
      "authorship_tag": "ABX9TyOBTgJrnmbJJ13hZpT8xLq3",
      "include_colab_link": true
    },
    "kernelspec": {
      "name": "python3",
      "display_name": "Python 3"
    }
  },
  "cells": [
    {
      "cell_type": "markdown",
      "metadata": {
        "id": "view-in-github",
        "colab_type": "text"
      },
      "source": [
        "<a href=\"https://colab.research.google.com/github/Shifath472533/3d-chess-opengl/blob/master/Keras/Datacamp/Chapter_1_Introduction_to_deep_learning_with_keras_Datacamp.ipynb\" target=\"_parent\"><img src=\"https://colab.research.google.com/assets/colab-badge.svg\" alt=\"Open In Colab\"/></a>"
      ]
    },
    {
      "cell_type": "markdown",
      "metadata": {
        "id": "OjZ9mQjx6kX7",
        "colab_type": "text"
      },
      "source": [
        "## Chapter - 1 Introducing Keras"
      ]
    },
    {
      "cell_type": "code",
      "metadata": {
        "id": "voaY_vgC2Qmp",
        "colab_type": "code",
        "colab": {}
      },
      "source": [
        "!pip install tensorflow==1.14.0"
      ],
      "execution_count": 0,
      "outputs": []
    },
    {
      "cell_type": "code",
      "metadata": {
        "id": "3cXMhTpXrYzf",
        "colab_type": "code",
        "colab": {}
      },
      "source": [
        "from keras.models import Sequential\n",
        "from keras.layers import Dense"
      ],
      "execution_count": 0,
      "outputs": []
    },
    {
      "cell_type": "markdown",
      "metadata": {
        "id": "RLvKyjCY0u5F",
        "colab_type": "text"
      },
      "source": [
        "There are two types of models - 1.sequential  2.Functional <br>"
      ]
    },
    {
      "cell_type": "code",
      "metadata": {
        "id": "3LN8bkr60pT_",
        "colab_type": "code",
        "colab": {}
      },
      "source": [
        "#Creating a new sequential model.\n",
        "model = Sequential()\n",
        "\n",
        "# Adding and input and dense layer \n",
        "model.add(Dense(2, input_shape=(3,), activation=\"relu\"))\n",
        "\n",
        "# Adding a final 1 neuron layer \n",
        "model.add(Dense(1))\n",
        "\n",
        "# Adding a final 1 neuron layer model.add(Dense(1))\n",
        "model.summary()"
      ],
      "execution_count": 0,
      "outputs": []
    },
    {
      "cell_type": "markdown",
      "metadata": {
        "id": "RlZjyT6U4_AK",
        "colab_type": "text"
      },
      "source": [
        "Output : \n",
        "```\n",
        "Model: \"sequential_2\"\n",
        "_________________________________________________________________\n",
        "Layer (type)                 Output Shape              Param #   \n",
        "=================================================================\n",
        "dense_3 (Dense)              (None, 2)                 8         \n",
        "_________________________________________________________________\n",
        "dense_4 (Dense)              (None, 1)                 3         \n",
        "=================================================================\n",
        "Total params: 11\n",
        "Trainable params: 11\n",
        "Non-trainable params: 0\n",
        "_________________________________________________________________\n",
        "\n",
        "```"
      ]
    },
    {
      "cell_type": "markdown",
      "metadata": {
        "id": "7p00Q_qe6hQt",
        "colab_type": "text"
      },
      "source": [
        "Task - 01 Hello nets!"
      ]
    },
    {
      "cell_type": "code",
      "metadata": {
        "id": "XFbAILNJ1Ngy",
        "colab_type": "code",
        "colab": {}
      },
      "source": [
        "# Import the Sequential model and Dense layer\n",
        "from keras.models import Sequential\n",
        "from keras.layers import Dense\n",
        "\n",
        "# Create a Sequential model\n",
        "model = Sequential()\n",
        "\n",
        "# Add an input layer and a hidden layer with 10 neurons\n",
        "model.add(Dense(10, input_shape=(2,), activation=\"relu\"))\n",
        "\n",
        "# Add a 1-neuron output layer\n",
        "model.add(Dense(1))\n",
        "\n",
        "# Summarise your model\n",
        "model.summary()"
      ],
      "execution_count": 0,
      "outputs": []
    },
    {
      "cell_type": "markdown",
      "metadata": {
        "id": "bYCYx4-p7hUe",
        "colab_type": "text"
      },
      "source": [
        "Output : \n",
        "```\n",
        "Model: \"sequential_2\"\n",
        "_________________________________________________________________\n",
        "Layer (type)                 Output Shape              Param #   \n",
        "=================================================================\n",
        "dense_2 (Dense)              (None, 10)                30        \n",
        "_________________________________________________________________\n",
        "dense_3 (Dense)              (None, 1)                 11        \n",
        "=================================================================\n",
        "Total params: 41\n",
        "Trainable params: 41\n",
        "Non-trainable params: 0\n",
        "_________________________________________________________________\n",
        "\n",
        "```\n"
      ]
    },
    {
      "cell_type": "markdown",
      "metadata": {
        "id": "t-_Q2cNC61LW",
        "colab_type": "text"
      },
      "source": [
        "Task - 02 Counting parameters"
      ]
    },
    {
      "cell_type": "code",
      "metadata": {
        "id": "Sq5UgCWj62xY",
        "colab_type": "code",
        "colab": {}
      },
      "source": [
        "# Instantiating a new Sequential model\n",
        "model = Sequential()\n",
        "\n",
        "# Adding a Dense layer with five neurons and three inputs\n",
        "model.add(Dense (5, input_shape=(3,), activation=\"relu\"))\n",
        "\n",
        "# Adding a final Dense layer with one neuron and no activation\n",
        "model.add(Dense(1))\n",
        "\n",
        "# Summarizing model\n",
        "model.summary()"
      ],
      "execution_count": 0,
      "outputs": []
    },
    {
      "cell_type": "markdown",
      "metadata": {
        "id": "aHvUPhbj7R4X",
        "colab_type": "text"
      },
      "source": [
        "Output:\n",
        "\n",
        "\n",
        "```\n",
        "Model: \"sequential_1\"\n",
        "_________________________________________________________________\n",
        "Layer (type)                 Output Shape              Param #   \n",
        "=================================================================\n",
        "dense_1 (Dense)              (None, 5)                 20        \n",
        "_________________________________________________________________\n",
        "dense_2 (Dense)              (None, 1)                 6         \n",
        "=================================================================\n",
        "Total params: 26\n",
        "Trainable params: 26\n",
        "Non-trainable params: 0\n",
        "_________________________________________________________________\n",
        "```"
      ]
    },
    {
      "cell_type": "markdown",
      "metadata": {
        "id": "HytrIdlx9mnX",
        "colab_type": "text"
      },
      "source": [
        "Task - 3  Build as shown!"
      ]
    },
    {
      "cell_type": "code",
      "metadata": {
        "id": "9pHHnlje7Yd3",
        "colab_type": "code",
        "colab": {}
      },
      "source": [
        "from keras.models import Sequential\n",
        "from keras.layers import Dense\n",
        "\n",
        "# Instantiate a Sequential model\n",
        "model = Sequential()\n",
        "\n",
        "# Build the input and hidden layer\n",
        "model.add(Dense(3, input_shape=(2,),activation = \"relu\"))\n",
        "\n",
        "# Add the ouput layer\n",
        "model.add(Dense(1))\n",
        "\n",
        "model.summary()"
      ],
      "execution_count": 0,
      "outputs": []
    },
    {
      "cell_type": "markdown",
      "metadata": {
        "id": "DZXYIYa39zhN",
        "colab_type": "text"
      },
      "source": [
        "Output:\n",
        "```\n",
        "Model: \"sequential_3\"\n",
        "_________________________________________________________________\n",
        "Layer (type)                 Output Shape              Param #   \n",
        "=================================================================\n",
        "dense_5 (Dense)              (None, 3)                 9         \n",
        "_________________________________________________________________\n",
        "dense_6 (Dense)              (None, 1)                 4         \n",
        "=================================================================\n",
        "Total params: 13\n",
        "Trainable params: 13\n",
        "Non-trainable params: 0\n",
        "_________________________________________________________________```\n",
        "\n"
      ]
    },
    {
      "cell_type": "code",
      "metadata": {
        "id": "sA_zrJkD94jE",
        "colab_type": "code",
        "colab": {}
      },
      "source": [
        ""
      ],
      "execution_count": 0,
      "outputs": []
    }
  ]
}